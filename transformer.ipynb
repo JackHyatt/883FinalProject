{
 "cells": [
  {
   "cell_type": "markdown",
   "metadata": {},
   "source": [
    "### Create Transformer Model"
   ]
  },
  {
   "cell_type": "code",
   "execution_count": null,
   "metadata": {},
   "outputs": [],
   "source": [
    "%pip install -r requirements.txt"
   ]
  },
  {
   "cell_type": "code",
   "execution_count": null,
   "metadata": {},
   "outputs": [],
   "source": [
    "import Time_series_Library.models\n",
    "import Time_series_Library.data_provider\n",
    "import Time_series_Library.exp\n",
    "import Time_series_Library.layers"
   ]
  },
  {
   "cell_type": "markdown",
   "metadata": {},
   "source": [
    "### Load in data"
   ]
  },
  {
   "cell_type": "code",
   "execution_count": null,
   "metadata": {},
   "outputs": [],
   "source": [
    "import kagglehub\n",
    "\n",
    "# Download latest version\n",
    "path = kagglehub.dataset_download(\"suruchiarora/yahoo-finance-dataset-2018-2023\")\n",
    "\n",
    "print(\"Path to dataset files:\", path)"
   ]
  },
  {
   "cell_type": "code",
   "execution_count": null,
   "metadata": {},
   "outputs": [],
   "source": [
    "import os\n",
    "\n",
    "# path = r\"C:\\Users\\jhyat\\.cache\\kagglehub\\datasets\\suruchiarora\\yahoo-finance-dataset-2018-2023\\versions\\1\"\n",
    "\n",
    "file_path = os.pardir.join(path,'yahoo_data.xlsx')\n",
    "\n"
   ]
  },
  {
   "cell_type": "markdown",
   "metadata": {},
   "source": [
    "### Train Model"
   ]
  },
  {
   "cell_type": "code",
   "execution_count": null,
   "metadata": {},
   "outputs": [],
   "source": [
    "python -u run.py \\\n",
    "  --task_name classification \\\n",
    "  --is_training 1 \\\n",
    "  --root_path ./dataset/UWaveGestureLibrary/ \\\n",
    "  --model_id UWaveGestureLibrary \\\n",
    "  --model TimesNet \\\n",
    "  --data UEA \\\n",
    "  --e_layers 2 \\\n",
    "  --batch_size 16 \\\n",
    "  --d_model 32 \\\n",
    "  --d_ff 64 \\\n",
    "  --top_k 3 \\\n",
    "  --des 'Exp' \\\n",
    "  --itr 1 \\\n",
    "  --learning_rate 0.001 \\\n",
    "  --train_epochs 30 \\\n",
    "  --patience 10"
   ]
  }
 ],
 "metadata": {
  "language_info": {
   "name": "python"
  }
 },
 "nbformat": 4,
 "nbformat_minor": 2
}
